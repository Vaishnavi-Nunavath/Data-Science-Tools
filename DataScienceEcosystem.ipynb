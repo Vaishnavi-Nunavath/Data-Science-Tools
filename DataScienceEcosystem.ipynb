{
 "cells": [
  {
   "cell_type": "markdown",
   "id": "0166e939",
   "metadata": {},
   "source": [
    "Data Science Tools and Ecosystem"
   ]
  },
  {
   "cell_type": "markdown",
   "id": "90ceab12",
   "metadata": {},
   "source": [
    "In this notebook, Data Science Tools and Ecosystem are summarized."
   ]
  },
  {
   "cell_type": "markdown",
   "id": "c8eac02f",
   "metadata": {},
   "source": [
    "Some of the popular languages that Data Scientists use are :\n",
    "\n",
    "\n",
    "    1. Python\n",
    "    2. R\n",
    "    3. SQL\n",
    "    4. C++\n",
    "    5. Java etc..;"
   ]
  },
  {
   "cell_type": "markdown",
   "id": "e3857d03",
   "metadata": {},
   "source": [
    "Some of the commonly used libraries used by Data scientists include :\n",
    "    \n",
    "    1. TensorFlow.\n",
    "    2. Numpy.\n",
    "    3. Scipy.\n",
    "    4. Pandas.\n",
    "    5. Matplotlib.\n",
    "    6. Keras.\n",
    "    7. Scikit-Learn.\n",
    "    8. PyTorch. etc..;"
   ]
  },
  {
   "cell_type": "markdown",
   "id": "5485f8e0",
   "metadata": {},
   "source": [
    "|Data Science Tools|\n",
    "|---|\n",
    "|SAS|\n",
    "|Apache Hadoop|\n",
    "|TensorFLow|"
   ]
  },
  {
   "cell_type": "code",
   "execution_count": 4,
   "id": "7a869b9c",
   "metadata": {},
   "outputs": [
    {
     "data": {
      "text/plain": [
       "32"
      ]
     },
     "execution_count": 4,
     "metadata": {},
     "output_type": "execute_result"
    }
   ],
   "source": [
    "#this is a common arithmetic example for multiply and add two integers.\n",
    "(4*6)+8"
   ]
  },
  {
   "cell_type": "code",
   "execution_count": 5,
   "id": "cfe97462",
   "metadata": {},
   "outputs": [
    {
     "data": {
      "text/plain": [
       "5.0"
      ]
     },
     "execution_count": 5,
     "metadata": {},
     "output_type": "execute_result"
    }
   ],
   "source": [
    "#this will convert 300 minutes to hours by diving by 60\n",
    "300/60"
   ]
  },
  {
   "cell_type": "markdown",
   "id": "1a0a6f12",
   "metadata": {},
   "source": [
    "__Objective__\n",
    "* List popular languages for Data Science\n",
    "* List popular libraries for Data Science\n",
    "* List of well known Data Science Tools\n",
    "* How to provide comments in the cell"
   ]
  },
  {
   "cell_type": "markdown",
   "id": "d4515cf7",
   "metadata": {},
   "source": [
    "## Author\n",
    "Nunavath Vaishnavi"
   ]
  },
  {
   "cell_type": "code",
   "execution_count": null,
   "id": "4da72904",
   "metadata": {},
   "outputs": [],
   "source": []
  }
 ],
 "metadata": {
  "kernelspec": {
   "display_name": "Python 3 (ipykernel)",
   "language": "python",
   "name": "python3"
  },
  "language_info": {
   "codemirror_mode": {
    "name": "ipython",
    "version": 3
   },
   "file_extension": ".py",
   "mimetype": "text/x-python",
   "name": "python",
   "nbconvert_exporter": "python",
   "pygments_lexer": "ipython3",
   "version": "3.11.5"
  }
 },
 "nbformat": 4,
 "nbformat_minor": 5
}
